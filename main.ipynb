{
 "cells": [
  {
   "cell_type": "code",
   "execution_count": 2,
   "metadata": {},
   "outputs": [],
   "source": [
    "import tensorflow as tf\n",
    "from tensorflow import keras\n",
    "import matplotlib.pyplot as plt\n",
    "import numpy as np\n",
    "import pandas as pd"
   ]
  },
  {
   "cell_type": "code",
   "execution_count": 3,
   "metadata": {},
   "outputs": [],
   "source": [
    "ripeness_class_name = [\"Early Ripe\",\"Partially Ripe\",\"Ripe\",\"Decay\"]"
   ]
  },
  {
   "cell_type": "code",
   "execution_count": 4,
   "metadata": {},
   "outputs": [],
   "source": [
    "ripeness_detector = keras.models.load_model('rgb_model.h5')"
   ]
  },
  {
   "cell_type": "code",
   "execution_count": 20,
   "metadata": {},
   "outputs": [
    {
     "name": "stdout",
     "output_type": "stream",
     "text": [
      "22\n",
      "3\n"
     ]
    }
   ],
   "source": [
    "#we are getting value from arduino as:;\n",
    "# b'Printing Colour:RGB: 43 33 47 \\r\\n'\n",
    "print(len(\"b'Printing Colour:RGB:\"))\n",
    "print(len(\"\\r\\n'\"))\n",
    "\n",
    "#so we can extract digits by\n",
    "#string[23:-3]"
   ]
  },
  {
   "cell_type": "code",
   "execution_count": 26,
   "metadata": {},
   "outputs": [
    {
     "name": "stdout",
     "output_type": "stream",
     "text": [
      "All Set! Press 'd' when you are ready!!\n",
      "R: 14, G: 6, B: 4\n",
      "\n",
      "R: 14, G: 6, B: 4\n",
      "\n",
      "R: 14, G: 6, B: 4\n",
      "\n",
      "R: 14, G: 6, B: 4\n",
      "\n",
      "R: 14, G: 6, B: 4\n",
      "\n",
      "R: 14, G: 6, B: 4\n",
      "\n",
      "R: 14, G: 6, B: 4\n",
      "\n",
      "R: 14, G: 6, B: 4\n",
      "\n",
      "R: 14, G: 6, B: 4\n",
      "\n",
      "R: 14, G: 6, B: 4\n",
      "\n",
      "R: 14, G: 5, B: 4\n",
      "\n",
      "R: 14, G: 5, B: 4\n",
      "\n",
      "Stage:  Ripe\n",
      "Turn Green LED\n",
      "R: 14, G: 5, B: 4\n",
      "\n",
      "R: 14, G: 5, B: 4\n",
      "\n",
      "R: 14, G: 5, B: 4\n",
      "\n",
      "R: 14, G: 5, B: 4\n",
      "\n",
      "R: 14, G: 5, B: 4\n",
      "\n",
      "R: 14, G: 5, B: 4\n",
      "\n",
      "R: 14, G: 5, B: 4\n",
      "\n",
      "R: 14, G: 5, B: 4\n",
      "\n",
      "R: 14, G: 5, B: 4\n",
      "\n",
      "R: 14, G: 5, B: 4\n",
      "\n",
      "R: 14, G: 5, B: 4\n",
      "\n",
      "R: 14, G: 5, B: 4\n",
      "\n",
      "R: 14, G: 5, B: 4\n",
      "\n",
      "R: 14, G: 5, B: 4\n",
      "\n",
      "R: 14, G: 5, B: 4\n",
      "\n"
     ]
    },
    {
     "ename": "KeyboardInterrupt",
     "evalue": "",
     "output_type": "error",
     "traceback": [
      "\u001b[1;31m---------------------------------------------------------------------------\u001b[0m",
      "\u001b[1;31mKeyboardInterrupt\u001b[0m                         Traceback (most recent call last)",
      "\u001b[1;32m~\\AppData\\Local\\Temp/ipykernel_13184/1503630829.py\u001b[0m in \u001b[0;36m<module>\u001b[1;34m\u001b[0m\n\u001b[0;32m     37\u001b[0m     \u001b[1;32mif\u001b[0m \u001b[0mi\u001b[0m\u001b[1;33m<=\u001b[0m\u001b[1;36m5\u001b[0m\u001b[1;33m:\u001b[0m\u001b[1;33m\u001b[0m\u001b[1;33m\u001b[0m\u001b[0m\n\u001b[0;32m     38\u001b[0m         \u001b[0mi\u001b[0m \u001b[1;33m=\u001b[0m \u001b[0mi\u001b[0m\u001b[1;33m+\u001b[0m\u001b[1;36m1\u001b[0m\u001b[1;33m\u001b[0m\u001b[1;33m\u001b[0m\u001b[0m\n\u001b[1;32m---> 39\u001b[1;33m     \u001b[0mstring\u001b[0m \u001b[1;33m=\u001b[0m \u001b[0mstr\u001b[0m\u001b[1;33m(\u001b[0m\u001b[0mser\u001b[0m\u001b[1;33m.\u001b[0m\u001b[0mreadline\u001b[0m\u001b[1;33m(\u001b[0m\u001b[1;33m)\u001b[0m\u001b[1;33m)\u001b[0m\u001b[1;33m\u001b[0m\u001b[1;33m\u001b[0m\u001b[0m\n\u001b[0m\u001b[0;32m     40\u001b[0m     \u001b[0mnumbers\u001b[0m \u001b[1;33m=\u001b[0m \u001b[0mstring\u001b[0m\u001b[1;33m[\u001b[0m\u001b[1;36m23\u001b[0m\u001b[1;33m:\u001b[0m\u001b[1;33m-\u001b[0m\u001b[1;36m6\u001b[0m\u001b[1;33m]\u001b[0m\u001b[1;33m\u001b[0m\u001b[1;33m\u001b[0m\u001b[0m\n\u001b[0;32m     41\u001b[0m \u001b[1;33m\u001b[0m\u001b[0m\n",
      "\u001b[1;32mC:\\Anaconda3\\lib\\site-packages\\serial\\serialwin32.py\u001b[0m in \u001b[0;36mread\u001b[1;34m(self, size)\u001b[0m\n\u001b[0;32m    286\u001b[0m                 \u001b[1;32mif\u001b[0m \u001b[1;32mnot\u001b[0m \u001b[0mread_ok\u001b[0m \u001b[1;32mand\u001b[0m \u001b[0mwin32\u001b[0m\u001b[1;33m.\u001b[0m\u001b[0mGetLastError\u001b[0m\u001b[1;33m(\u001b[0m\u001b[1;33m)\u001b[0m \u001b[1;32mnot\u001b[0m \u001b[1;32min\u001b[0m \u001b[1;33m(\u001b[0m\u001b[0mwin32\u001b[0m\u001b[1;33m.\u001b[0m\u001b[0mERROR_SUCCESS\u001b[0m\u001b[1;33m,\u001b[0m \u001b[0mwin32\u001b[0m\u001b[1;33m.\u001b[0m\u001b[0mERROR_IO_PENDING\u001b[0m\u001b[1;33m)\u001b[0m\u001b[1;33m:\u001b[0m\u001b[1;33m\u001b[0m\u001b[1;33m\u001b[0m\u001b[0m\n\u001b[0;32m    287\u001b[0m                     \u001b[1;32mraise\u001b[0m \u001b[0mSerialException\u001b[0m\u001b[1;33m(\u001b[0m\u001b[1;34m\"ReadFile failed ({!r})\"\u001b[0m\u001b[1;33m.\u001b[0m\u001b[0mformat\u001b[0m\u001b[1;33m(\u001b[0m\u001b[0mctypes\u001b[0m\u001b[1;33m.\u001b[0m\u001b[0mWinError\u001b[0m\u001b[1;33m(\u001b[0m\u001b[1;33m)\u001b[0m\u001b[1;33m)\u001b[0m\u001b[1;33m)\u001b[0m\u001b[1;33m\u001b[0m\u001b[1;33m\u001b[0m\u001b[0m\n\u001b[1;32m--> 288\u001b[1;33m                 result_ok = win32.GetOverlappedResult(\n\u001b[0m\u001b[0;32m    289\u001b[0m                     \u001b[0mself\u001b[0m\u001b[1;33m.\u001b[0m\u001b[0m_port_handle\u001b[0m\u001b[1;33m,\u001b[0m\u001b[1;33m\u001b[0m\u001b[1;33m\u001b[0m\u001b[0m\n\u001b[0;32m    290\u001b[0m                     \u001b[0mctypes\u001b[0m\u001b[1;33m.\u001b[0m\u001b[0mbyref\u001b[0m\u001b[1;33m(\u001b[0m\u001b[0mself\u001b[0m\u001b[1;33m.\u001b[0m\u001b[0m_overlapped_read\u001b[0m\u001b[1;33m)\u001b[0m\u001b[1;33m,\u001b[0m\u001b[1;33m\u001b[0m\u001b[1;33m\u001b[0m\u001b[0m\n",
      "\u001b[1;31mKeyboardInterrupt\u001b[0m: "
     ]
    }
   ],
   "source": [
    "#Importing libraries for Arduino\n",
    "import serial\n",
    "import keyboard\n",
    "\n",
    "def detect(r,g,b):\n",
    "    array = np.array([[r,g,b]])\n",
    "    predictions = ripeness_detector(array)\n",
    "    \n",
    "    state = ripeness_class_name[np.argmax(predictions)]\n",
    "    return state \n",
    "\n",
    "def turn_on_led(stage):\n",
    "    if stage  == \"Early Ripe\":\n",
    "        print(\"Turn White LED\")\n",
    "        ser.write(b'0')\n",
    "\n",
    "    \n",
    "    elif stage == \"Partially Ripe\":\n",
    "        print(\"Turn Yellow LED\")\n",
    "        ser.write(b'1')\n",
    "\n",
    "\n",
    "    elif stage == \"Ripe\":\n",
    "        print(\"Turn Green LED\")\n",
    "        ser.write(b'2')\n",
    "\n",
    "\n",
    "    elif stage == \"Decay\":\n",
    "        print(\"Turn RED LED\")\n",
    "        ser.write(b'3')\n",
    "\n",
    "\n",
    "#code to infer\n",
    "ser = serial.Serial('COM3',9600,timeout=1)\n",
    "i=0\n",
    "while True:\n",
    "    if i<=5:\n",
    "        i = i+1\n",
    "    string = str(ser.readline())\n",
    "    numbers = string[23:-6]\n",
    "\n",
    "    numbers = numbers.split(\" \")\n",
    "    if i>=6:\n",
    "        if i == 6:\n",
    "            print(\"All Set! Press 'd' when you are ready!!\")\n",
    "            i+=1\n",
    "\n",
    "        r = int(numbers[0])\n",
    "        if r>255:\n",
    "            r=255\n",
    "        g = int(numbers[1])\n",
    "        if g>255:\n",
    "            g=255\n",
    "        b = int(numbers[2])\n",
    "        if b>255:\n",
    "            b=255\n",
    "        \n",
    "        print('R: {}, G: {}, B: {}\\n'.format(r,g,b))\n",
    "\n",
    "\n",
    "    #print(ser.readline())\n",
    "\n",
    "    if keyboard.is_pressed('d'):\n",
    "        #if d is pressed, get the output\n",
    "        ripeness_stage = detect(r,g,b)\n",
    "        print(\"Stage: \",ripeness_stage)\n",
    "            \n",
    "        turn_on_led(ripeness_stage)\n",
    "            #ripeness stage can be 4 = [\"Early Ripe\",\"Partially Ripe\",\"Ripe\",\"Decay\"]\n",
    "ser.close()"
   ]
  },
  {
   "cell_type": "code",
   "execution_count": null,
   "metadata": {},
   "outputs": [],
   "source": []
  }
 ],
 "metadata": {
  "interpreter": {
   "hash": "97ae724bfa85b9b34df7982b8bb8c7216f435b92902d749e4263f71162bea840"
  },
  "kernelspec": {
   "display_name": "Python 3.9.7 64-bit ('base': conda)",
   "language": "python",
   "name": "python3"
  },
  "language_info": {
   "codemirror_mode": {
    "name": "ipython",
    "version": 3
   },
   "file_extension": ".py",
   "mimetype": "text/x-python",
   "name": "python",
   "nbconvert_exporter": "python",
   "pygments_lexer": "ipython3",
   "version": "3.9.7"
  },
  "orig_nbformat": 4
 },
 "nbformat": 4,
 "nbformat_minor": 2
}
